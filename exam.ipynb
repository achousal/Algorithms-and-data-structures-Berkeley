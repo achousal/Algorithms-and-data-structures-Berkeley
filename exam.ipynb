{
 "cells": [
  {
   "cell_type": "code",
   "execution_count": 10,
   "id": "cac94895",
   "metadata": {
    "scrolled": true
   },
   "outputs": [
    {
     "name": "stdout",
     "output_type": "stream",
     "text": [
      "Requirement already satisfied: ucxdsa in c:\\users\\c\\anaconda3\\lib\\site-packages (2024.2.25)\n"
     ]
    }
   ],
   "source": [
    "!pip install ucxdsa\n",
    "import dsa\n"
   ]
  },
  {
   "cell_type": "code",
   "execution_count": 4,
   "id": "58fc6c66",
   "metadata": {},
   "outputs": [
    {
     "name": "stdout",
     "output_type": "stream",
     "text": [
      "no loop\n"
     ]
    }
   ],
   "source": [
    "from dsa.singlylinkedlist import LinkedList, Node\n",
    "                \n",
    "n1 = Node(10)\n",
    "n2 = Node(20)\n",
    "n3 = Node(30)\n",
    "n4 = Node(40)\n",
    "n1.next = n2\n",
    "n2.next = n3\n",
    "n3.next = n4\n",
    "slink = LinkedList(n1, n4, 4)\n",
    "\n",
    "def loopcheck(slink):\n",
    "    slow = slink.head\n",
    "    fast = slink.head\n",
    "    \n",
    "    while fast is not None and fast.next is not None:\n",
    "        slow = slow.next          \n",
    "        fast = fast.next.next\n",
    "        \n",
    "        if slow == fast:         \n",
    "            print(\"looped\")\n",
    "    \n",
    "    print(\"no loop\")\n",
    "\n",
    "loopcheck(slink)\n"
   ]
  },
  {
   "cell_type": "code",
   "execution_count": 19,
   "id": "f5f00f07",
   "metadata": {},
   "outputs": [
    {
     "name": "stdout",
     "output_type": "stream",
     "text": [
      "           30           \n",
      "     3           63     \n",
      "        6     31   6312 \n",
      "               34       \n",
      "\n",
      "           30           \n",
      "     3           63     \n",
      "        6     31   6312 \n",
      "               34       \n",
      "\n"
     ]
    }
   ],
   "source": [
    "from dsa.tree import Node, Tree\n",
    "from dsa.pretty_print import tree_print\n",
    "\n",
    "\n",
    "tree = Tree()\n",
    "for i in [30, 3, 63, 6, 31, 6312, 34]:\n",
    "    tree.insert(i)\n",
    "tree_print(tree)\n",
    "\n",
    "def duplicate_node(node):\n",
    "    if not node:\n",
    "        return None\n",
    "\n",
    "    new_node = Node(node.value)\n",
    "\n",
    "    new_node.left = duplicate_node(node.left)\n",
    "    new_node.right = duplicate_node(node.right)\n",
    "    return new_node\n",
    "\n",
    "def duplicate(tree):\n",
    "    if not tree.root:\n",
    "        return Tree()\n",
    "\n",
    "    new_tree = Tree()\n",
    "    new_tree.root = duplicate_node(tree.root)\n",
    "    return new_tree\n",
    "\n",
    "\n",
    "duplicated_tree = duplicate(tree)\n",
    "\n",
    "tree_print(duplicated_tree)"
   ]
  },
  {
   "cell_type": "code",
   "execution_count": 38,
   "id": "8a36ed5c",
   "metadata": {},
   "outputs": [
    {
     "name": "stdout",
     "output_type": "stream",
     "text": [
      "Is the heap a valid max-heap? True\n"
     ]
    }
   ],
   "source": [
    "from dsa.heap import Heap\n",
    "from dsa.pretty_print import heap_print\n",
    "\n",
    "heap = Heap()\n",
    "for i in [30, 3, 63, 6, 31, 6312, 34]:\n",
    "    heap.insert(i)\n",
    "\n",
    "def is_max_heap(heap):\n",
    "\n",
    "    def parent_value(index):\n",
    "        return heap._array[heap.parent_index(index)]\n",
    "\n",
    "    for i in range(1, heap.count()):\n",
    "        if heap._array[i] > parent_value(i):\n",
    "            return False\n",
    "\n",
    "    return True\n",
    "\n",
    "is_heap_max_heap = is_max_heap(heap)\n",
    "print(\"Is the heap a valid max-heap?\", is_heap_max_heap)"
   ]
  },
  {
   "cell_type": "code",
   "execution_count": 40,
   "id": "168f8c1f",
   "metadata": {},
   "outputs": [
    {
     "name": "stdout",
     "output_type": "stream",
     "text": [
      "Help on package dsa:\n",
      "\n",
      "NAME\n",
      "    dsa\n",
      "\n",
      "DESCRIPTION\n",
      "    dsa package for UC Berkeley Extension's Computer Science X404.1 Data Structures and Algorithms class\n",
      "    Last Revision: 2/25/2024\n",
      "\n",
      "PACKAGE CONTENTS\n",
      "    array\n",
      "    doublylinkedlist\n",
      "    graph\n",
      "    hashtable\n",
      "    heap\n",
      "    huffman\n",
      "    pretty_print\n",
      "    queue\n",
      "    singlylinkedlist\n",
      "    sorttools\n",
      "    stack\n",
      "    tree\n",
      "    trie\n",
      "\n",
      "DATA\n",
      "    version = '2024.2.25'\n",
      "\n",
      "FILE\n",
      "    c:\\users\\c\\anaconda3\\lib\\site-packages\\dsa\\__init__.py\n",
      "\n",
      "\n"
     ]
    }
   ],
   "source": [
    "help(dsa)"
   ]
  },
  {
   "cell_type": "code",
   "execution_count": 52,
   "id": "ac3b95ec",
   "metadata": {},
   "outputs": [
    {
     "name": "stdout",
     "output_type": "stream",
     "text": [
      "Number of vertices reachable from A: 5\n"
     ]
    }
   ],
   "source": [
    "from dsa.graph import AdjacencyMatrixGraph\n",
    "def count_reachable_vertices(graph, start_label):\n",
    "\n",
    "    start_index = graph.label_index[start_label]\n",
    "    visited = set()\n",
    "\n",
    "    def bfs(vertex_index):\n",
    "        visited.add(vertex_index)\n",
    "        for i, connected in enumerate(graph.array[vertex_index]):\n",
    "            if connected and i not in visited:\n",
    "                bfs(i)\n",
    "\n",
    "    bfs(start_index)\n",
    "    return len(visited)\n",
    "\n",
    "labels = [\"A\", \"B\", \"C\", \"D\", \"E\"]\n",
    "graph = AdjacencyMatrixGraph(labels)\n",
    "\n",
    "graph.add_edge(\"A\", \"B\")\n",
    "graph.add_edge(\"B\", \"C\")\n",
    "graph.add_edge(\"C\", \"D\")\n",
    "graph.add_edge(\"D\", \"E\")\n",
    "\n",
    "start_label = \"A\"\n",
    "reachable_count = count_reachable_vertices(graph, start_label)\n",
    "print(f\"Number of vertices reachable from {start_label}: {reachable_count}\")"
   ]
  },
  {
   "cell_type": "code",
   "execution_count": null,
   "id": "fc3ccb84",
   "metadata": {},
   "outputs": [],
   "source": []
  }
 ],
 "metadata": {
  "kernelspec": {
   "display_name": "Python 3 (ipykernel)",
   "language": "python",
   "name": "python3"
  },
  "language_info": {
   "codemirror_mode": {
    "name": "ipython",
    "version": 3
   },
   "file_extension": ".py",
   "mimetype": "text/x-python",
   "name": "python",
   "nbconvert_exporter": "python",
   "pygments_lexer": "ipython3",
   "version": "3.11.7"
  }
 },
 "nbformat": 4,
 "nbformat_minor": 5
}
