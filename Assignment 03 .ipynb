{
 "cells": [
  {
   "cell_type": "markdown",
   "id": "76c4bdbf",
   "metadata": {},
   "source": [
    "<h1>Assignment 03</h1>"
   ]
  },
  {
   "cell_type": "markdown",
   "id": "33dcdb57",
   "metadata": {},
   "source": [
    "<h2>1.</h2>\n",
    "Describe the worst case data and the best case data for each of the following sorting algorithms. Also, include the big O notation for each case."
   ]
  },
  {
   "cell_type": "markdown",
   "id": "5c6d67f4",
   "metadata": {},
   "source": [
    "<h3>Bubble Sort</h3>\n",
    "Worst case: \n",
    "Data is sorted in reverse O(n^2)\n",
    "\n",
    "Best case:\n",
    "Data is already sorted O(n)\n",
    "\n",
    "<h3>Selection Sort</h3>\n",
    "Worst case:\n",
    "Data is sorted in reverse O(n^2)\n",
    "\n",
    "Best case:\n",
    "Data is already sorted O(n^2)\n",
    "\n",
    "\n",
    "<h3>Insertion Sort</h3>\n",
    "Worst case:\n",
    "Data is sorted in reverse O(n)\n",
    "\n",
    "Best case:\n",
    "Data is already sorted O(n)\n",
    "\n",
    "\n",
    "<h3>Merge Sort</h3>\n",
    "Worst case: left and right arrays follow a alternating pattern i.e: {0,2,4,6,1,3,5,7} O(n*log(n))\n",
    "\n",
    "\n",
    "Best case:\n",
    "Data is already sorted O(n*log(n))\n",
    "\n",
    "\n",
    "<h3>Quicksort</h3>\n",
    "Worst case: Pivot values are smallest or largest in array (n^2)\n",
    "\n",
    "\n",
    "Best case:\n",
    "Data is already sorted O(n*log(n))\n",
    "\n"
   ]
  },
  {
   "cell_type": "markdown",
   "id": "0be398c5",
   "metadata": {},
   "source": [
    "<h2>2.</h2>\n",
    "Implement an insertion sort function.\n"
   ]
  },
  {
   "cell_type": "code",
   "execution_count": 18,
   "id": "727ebcab",
   "metadata": {},
   "outputs": [
    {
     "name": "stdout",
     "output_type": "stream",
     "text": [
      "[1, 5, 6, 6, 8, 11, 12, 13]\n"
     ]
    }
   ],
   "source": [
    "def insertionSort(arr):\n",
    "    for i in range(1, len(arr)):\n",
    "        key = arr[i]\n",
    "        j = i-1\n",
    "        while j >= 0 and key < arr[j] : \n",
    "                arr[j + 1] = arr[j] #selects\n",
    "                j -= 1 #searches\n",
    "        arr[j + 1] = key #places\n",
    "\n",
    "\n",
    "arr = [8 ,1 ,6, 12, 11, 13, 5, 6 ]\n",
    "\n",
    "insertionSort(arr)\n",
    "\n",
    "print(arr)\n"
   ]
  },
  {
   "cell_type": "markdown",
   "id": "c92580e7",
   "metadata": {},
   "source": [
    "<h2>3.</h2>\n",
    "Write a function that accepts an array and returns an array of numbers missing from it\n",
    "The input array:\n",
    "has a size n,\n",
    "contains random numbers ranging from 0 to n-1,\n",
    "may contain duplicate values,\n",
    "not necessarily sorted,\n",
    "The output array:\n",
    "contains missing numbers ranging from 0 to n-1."
   ]
  },
  {
   "cell_type": "code",
   "execution_count": 27,
   "id": "a752b909",
   "metadata": {},
   "outputs": [
    {
     "name": "stdout",
     "output_type": "stream",
     "text": [
      "Missing numbers: [0, 3, 6, 8, 9, 11, 12, 13, 14]\n"
     ]
    }
   ],
   "source": [
    "def missingNumbers(arr): #On\n",
    "    n = max(arr) + 1\n",
    "    missing = []\n",
    "    num_set = set(arr)\n",
    "\n",
    "    for i in range(n):\n",
    "        if i not in num_set:\n",
    "            missing.append(i)\n",
    "\n",
    "    return missing\n",
    "\n",
    "arr = [1, 2, 4, 5, 7, 10, 10, 10, 15]\n",
    "\n",
    "missing = missingNumbers(arr)\n",
    "\n",
    "print(\"Missing numbers:\", missing)"
   ]
  },
  {
   "cell_type": "markdown",
   "id": "62e73407",
   "metadata": {},
   "source": [
    "<h2>4.</h2>\n",
    "Write a function that returns the first non-repeating character in a string with O(n) efficiency. It should return none or null if there are no non-repeating conesutive characters."
   ]
  },
  {
   "cell_type": "code",
   "execution_count": 58,
   "id": "b6687f68",
   "metadata": {},
   "outputs": [
    {
     "name": "stdout",
     "output_type": "stream",
     "text": [
      "{'a': [2, 0], 'b': [2, 5], 'c': [2, 11], 's': [2, 13], 'd': [1, 16]}\n",
      "{'a': [2, 0], 'b': [1, 2]}\n",
      "First non-consecutive character: d\n",
      "First non-consecutive character: b\n"
     ]
    }
   ],
   "source": [
    "def firstNonConsecutiveCharacter(s):\n",
    "    char_freq = {}  \n",
    "\n",
    "    for i, char in enumerate(s):\n",
    "        if char in char_freq:\n",
    "            if char_freq[char][1] == i - 1:\n",
    "                char_freq[char][0] += 1\n",
    "        else:\n",
    "            char_freq[char] = [1, i]\n",
    "    for char in s:\n",
    "        if char_freq[char][0] == 1:\n",
    "            return char \n",
    "\n",
    "    return None\n",
    "\n",
    "string = \"aaaaabbbbbbccsssds\"\n",
    "string1 = \"aabababb\"\n",
    "\n",
    "result = firstNonConsecutiveCharacter(string)\n",
    "result1 = firstNonConsecutiveCharacter(string1)\n",
    "print(\"First non-consecutive character:\", result)\n",
    "print(\"First non-consecutive character:\", result1)\n"
   ]
  },
  {
   "cell_type": "markdown",
   "id": "b27fb7de",
   "metadata": {},
   "source": [
    "<h2>5.</h2>\n",
    "Write a function that given an array of integers and a target value, returns the length of the longest subarray with a sum equal to the target value. Write the function with O(n) efficiency for full credit."
   ]
  },
  {
   "cell_type": "code",
   "execution_count": 2,
   "id": "097a38ad",
   "metadata": {},
   "outputs": [
    {
     "name": "stdout",
     "output_type": "stream",
     "text": [
      "{0: -1, 1: 0, 2: 1}\n",
      "{0: -1, 1: 0, 2: 1, 3: 2}\n",
      "{0: -1, 1: 0, 2: 1, 3: 2, 6: 3, 7: 4}\n",
      "{0: -1, 1: 0, 2: 1, 3: 2, 6: 3, 7: 4, 8: 6, 12: 8}\n",
      "{0: -1, 1: 0, 2: 1, 3: 2, 6: 3, 7: 4, 8: 6, 12: 8, 10: 9}\n",
      "{0: -1, 1: 0, 2: 1, 3: 2, 6: 3, 7: 4, 8: 6, 12: 8, 10: 9, 13: 10}\n",
      "{0: -1, 1: 0, 2: 1, 3: 2, 6: 3, 7: 4, 8: 6, 12: 8, 10: 9, 13: 10, 15: 11}\n",
      "{0: -1, 1: 0, 2: 1, 3: 2, 6: 3, 7: 4, 8: 6, 12: 8, 10: 9, 13: 10, 15: 11, 16: 12, 14: 13}\n",
      "{0: -1, 1: 0, 2: 1, 3: 2, 6: 3, 7: 4, 8: 6, 12: 8, 10: 9, 13: 10, 15: 11, 16: 12, 14: 13, 11: 15}\n",
      "longestSubArray: [-1, 5, -2, 3, 2, 1, -2, -2, -1]\n",
      "longestSubArrayLength: 9\n"
     ]
    }
   ],
   "source": [
    "def longestSubArray(arr, target):\n",
    "    running_sum = 0\n",
    "    max_length = 0\n",
    "    max_subarray = []\n",
    "    sum_indices = {0: -1}\n",
    "\n",
    "    for i, num in enumerate(arr):\n",
    "        running_sum += num\n",
    "\n",
    "        if running_sum - target in sum_indices:\n",
    "            start_index = sum_indices[running_sum - target]\n",
    "            current_length = i - start_index\n",
    "            print(sum_indices)\n",
    "            if current_length > max_length:\n",
    "                max_length = current_length\n",
    "                max_subarray = arr[start_index+1:i+1]\n",
    "\n",
    "        if running_sum not in sum_indices:\n",
    "            sum_indices[running_sum] = i\n",
    "    return max_subarray\n",
    "\n",
    "target = 3          \n",
    "arr = [1,1,1,3, 1, -1, 2, -1, 5, -2, 3, 2 ,1 , -2 ,-2 ,-1 ,2, -1]\n",
    "result = longestSubArray(arr, target)\n",
    "print(\"longestSubArray:\", result)\n",
    "print(\"longestSubArrayLength:\", len(result))"
   ]
  },
  {
   "cell_type": "code",
   "execution_count": null,
   "id": "7d52bd55",
   "metadata": {},
   "outputs": [],
   "source": []
  }
 ],
 "metadata": {
  "kernelspec": {
   "display_name": "Python 3 (ipykernel)",
   "language": "python",
   "name": "python3"
  },
  "language_info": {
   "codemirror_mode": {
    "name": "ipython",
    "version": 3
   },
   "file_extension": ".py",
   "mimetype": "text/x-python",
   "name": "python",
   "nbconvert_exporter": "python",
   "pygments_lexer": "ipython3",
   "version": "3.11.5"
  }
 },
 "nbformat": 4,
 "nbformat_minor": 5
}
