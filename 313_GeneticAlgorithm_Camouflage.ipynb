{
 "cells": [
  {
   "cell_type": "markdown",
   "metadata": {
    "colab_type": "text",
    "id": "view-in-github"
   },
   "source": [
    "<a href=\"https://colab.research.google.com/github/bnsreenu/python_for_microscopists/blob/master/313_GeneticAlgorithm_Camouflage.ipynb\" target=\"_parent\"><img src=\"https://colab.research.google.com/assets/colab-badge.svg\" alt=\"Open In Colab\"/></a>"
   ]
  },
  {
   "cell_type": "markdown",
   "metadata": {
    "id": "Dz3iCQ3f1XWM"
   },
   "source": [
    "https://youtu.be/shReZko1xns"
   ]
  },
  {
   "cell_type": "markdown",
   "metadata": {
    "id": "q9Qge_0eNXfP"
   },
   "source": [
    "\n",
    "\n",
    "#Understanding the evolutionary part of the Genetic Algorithms <br>\n",
    "Genetic Algorithms (GAs) are inspired by the process of natural selection and evolution found in nature. GAs are a type of optimization technique that imitates the process of evolution and natural selection. They operate by creating a population of candidate solutions to a problem, and then repeatedly iterating through the following steps: selection, crossover, and mutation.\n",
    "<p>\n",
    "Read my blog on this topic here:\n",
    "https://www.linkedin.com/pulse/genetic-algorithms-optimization-problems-sreenivas-bhattiprolu"
   ]
  },
  {
   "cell_type": "markdown",
   "metadata": {
    "id": "jVZJ4bCKLYgH"
   },
   "source": [
    "The first part of the code below implements a genetic algorithm simulation to find the best RGB values that match a target RGB value. It involves the following 3 steps:\n",
    "<br>\n",
    "1. calc_fitness: calculates the mean absolute difference between an input RGB chromosome and the target RGB values.\n",
    "2.evolve_population: evolves a population of chromosomes by selecting the best chromosomes (elites), mating them to create offspring, and applying random mutations to the offspring.\n",
    "3. simulate: runs the genetic algorithm simulation by initializing a population of random RGB values, evolving the population over a specified number of generations, and returning the best chromosome found.\n",
    "\n",
    "The target RGB values are passed as input to the simulate function, and the simulation runs for 50 generations with a population size of 100, mutation rate of 0.01, and 10% of the population being selected as elites. The RGB values and fitness of the best individual in each generation are printed. The final output is the best chromosome found, which is the individual with the minimum fitness value (the closest match to the target RGB)."
   ]
  },
  {
   "cell_type": "code",
   "execution_count": 2,
   "metadata": {
    "id": "RgEkEOtJoxcZ"
   },
   "outputs": [],
   "source": [
    "import random\n",
    "import numpy as np\n",
    "from matplotlib import pyplot as plt"
   ]
  },
  {
   "cell_type": "code",
   "execution_count": 3,
   "metadata": {
    "colab": {
     "base_uri": "https://localhost:8080/"
    },
    "id": "l-JEEPL1QuJG",
    "outputId": "98471cee-288d-4262-cdde-3427a0e71c35"
   },
   "outputs": [
    {
     "name": "stdout",
     "output_type": "stream",
     "text": [
      "8.333333333333334\n"
     ]
    }
   ],
   "source": [
    "#A quick summary of our fitness function - mean absolute difference between two arrays\n",
    "#Calculate absolute value element wise and then mean.\n",
    "print(np.mean(np.abs(np.array([250, 0, 20]) - np.array([255, 0, 0]))))"
   ]
  },
  {
   "cell_type": "markdown",
   "metadata": {
    "id": "K3OYGTvjRn84"
   },
   "source": [
    "Define the necessary helper functions.\n"
   ]
  },
  {
   "cell_type": "code",
   "execution_count": 5,
   "metadata": {
    "id": "HjeH3jsIoxXN"
   },
   "outputs": [],
   "source": [
    "def calc_fitness(chromosome, target_rgb):\n",
    "    \"\"\"\n",
    "    Calculate the fitness of a given chromosome.\n",
    "\n",
    "    Parameters:\n",
    "        chromosome (np.ndarray): An array representing the chromosome.\n",
    "        target_rgb (np.ndarray): The target RGB values.\n",
    "\n",
    "    Returns:\n",
    "        float: The mean absolute difference between the chromosome and target RGB values.\n",
    "    \"\"\"\n",
    "    return np.mean(np.abs(chromosome - target_rgb))"
   ]
  },
  {
   "cell_type": "code",
   "execution_count": 7,
   "metadata": {
    "id": "Ko605RpzoxOP"
   },
   "outputs": [],
   "source": [
    "def evolve_population(population, target_rgb, mutation_rate, elite_ratio):\n",
    "    \"\"\"\n",
    "    Evolve a population of chromosomes.\n",
    "\n",
    "    Parameters:\n",
    "        population (List[np.ndarray]): A list of arrays representing the chromosomes in the population.\n",
    "        target_rgb (np.ndarray): The target RGB values.\n",
    "        mutation_rate (float): The probability of a chromosome mutating.\n",
    "        elite_ratio (float): The ratio of chromosomes to be selected as elites.\n",
    "\n",
    "    Returns:\n",
    "        List[np.ndarray]: The evolved population of chromosomes.\n",
    "    \"\"\"\n",
    "    # Calculate fitness values for each chromosome in the population\n",
    "    fitness_values = [calc_fitness(c, target_rgb) for c in population]\n",
    "\n",
    "    # Select the chromosomes with the best fitness values as elites\n",
    "    elite_index = np.argsort(fitness_values)[:int(len(population) * elite_ratio)]\n",
    "    elites = [population[i] for i in elite_index]\n",
    "\n",
    "    # Create a new population by mating the elites\n",
    "    new_population = []\n",
    "    while len(new_population) < len(population) - len(elites):\n",
    "        # Select two parents randomly from the elites\n",
    "        parent1, parent2 = random.choices(elites, k=2)\n",
    "\n",
    "        # Create a child chromosome by combining the genes of the two parents\n",
    "        child = np.zeros(parent1.shape)\n",
    "        for i in range(len(parent1)):\n",
    "            if random.random() < 0.5:\n",
    "                child[i] = parent1[i]\n",
    "            else:\n",
    "                child[i] = parent2[i]\n",
    "\n",
    "            # Mutate the child chromosome with a probability determined by mutation_rate\n",
    "            if random.random() < mutation_rate:\n",
    "                child[i] = np.random.randint(0, 256)\n",
    "\n",
    "        # Add the child chromosome to the new population\n",
    "        new_population.append(child)\n",
    "\n",
    "    # Return the evolved population\n",
    "    return elites + new_population"
   ]
  },
  {
   "cell_type": "code",
   "execution_count": 8,
   "metadata": {
    "id": "bMMhjkAfo5gn"
   },
   "outputs": [],
   "source": [
    "def simulate(size, target_rgb, generations, mutation_rate, elite_ratio):\n",
    "    \"\"\"\n",
    "    Simulate the evolution of a population of chromosomes.\n",
    "\n",
    "    Parameters:\n",
    "        size (int): The size of the population.\n",
    "        target_rgb (np.ndarray): The target RGB values.\n",
    "        generations (int): The number of generations to evolve the population.\n",
    "        mutation_rate (float): The probability of a chromosome mutating.\n",
    "        elite_ratio (float): The ratio of chromosomes to be selected as elites.\n",
    "\n",
    "    Returns:\n",
    "        np.ndarray: The best chromosome found.\n",
    "    \"\"\"\n",
    "    # Initialize the population with random RGB values\n",
    "    population = [np.random.randint(0, 256, size=(3,)) for _ in range(size)]\n",
    "\n",
    "    # Evolve the population over the specified number of generations\n",
    "    for i in range(generations):\n",
    "        # Evolve the population by selecting elites, mutating, and recombining\n",
    "        population = evolve_population(population, target_rgb, mutation_rate, elite_ratio)\n",
    "\n",
    "        # Get the individual with the best fitness (closest to target RGB)\n",
    "        best_fit = min(population, key=lambda c: calc_fitness(c, target_rgb))\n",
    "\n",
    "        # Print the generation number and the RGB values and fitness of the best individual\n",
    "        print(f'Generation {i}: Best fitness {calc_fitness(best_fit, target_rgb)}, RGB values {best_fit}')\n",
    "\n",
    "    # Return the individual with the minimum fitness value\n",
    "    return min(population, key=lambda c: calc_fitness(c, target_rgb))"
   ]
  },
  {
   "cell_type": "code",
   "execution_count": 13,
   "metadata": {
    "colab": {
     "base_uri": "https://localhost:8080/"
    },
    "id": "iT8KjnAoHWoA",
    "outputId": "a59d28ea-76d3-40c5-e228-ceef16aa5b4e"
   },
   "outputs": [
    {
     "name": "stdout",
     "output_type": "stream",
     "text": [
      "Generation 0: Best fitness 12.333333333333334, RGB values [ 89. 105.  78.]\n",
      "Generation 1: Best fitness 12.333333333333334, RGB values [ 89. 105.  78.]\n",
      "Generation 2: Best fitness 11.0, RGB values [ 89. 105. 100.]\n",
      "Generation 3: Best fitness 11.0, RGB values [ 89. 105. 100.]\n",
      "Generation 4: Best fitness 11.0, RGB values [ 89. 105. 100.]\n",
      "Generation 5: Best fitness 7.333333333333333, RGB values [ 54. 105. 100.]\n",
      "Generation 6: Best fitness 7.333333333333333, RGB values [ 54. 105. 100.]\n",
      "Generation 7: Best fitness 7.0, RGB values [ 54. 105.  83.]\n",
      "Generation 8: Best fitness 7.0, RGB values [ 54. 105.  83.]\n",
      "Generation 9: Best fitness 4.666666666666667, RGB values [ 54. 105.  90.]\n",
      "Generation 10: Best fitness 4.666666666666667, RGB values [ 54. 105.  90.]\n",
      "Generation 11: Best fitness 4.666666666666667, RGB values [ 54. 105.  90.]\n",
      "Generation 12: Best fitness 2.3333333333333335, RGB values [ 61. 105.  90.]\n",
      "Generation 13: Best fitness 2.3333333333333335, RGB values [ 61. 105.  90.]\n",
      "Generation 14: Best fitness 2.3333333333333335, RGB values [ 61. 105.  90.]\n",
      "Generation 15: Best fitness 2.3333333333333335, RGB values [ 61. 105.  90.]\n",
      "Generation 16: Best fitness 2.3333333333333335, RGB values [ 61. 105.  90.]\n",
      "Generation 17: Best fitness 2.3333333333333335, RGB values [ 61. 105.  90.]\n",
      "Generation 18: Best fitness 2.3333333333333335, RGB values [ 61. 105.  90.]\n",
      "Generation 19: Best fitness 2.3333333333333335, RGB values [ 61. 105.  90.]\n",
      "Target is [ 66 104  91] and the best campuflage is [ 61. 105.  90.] .\n"
     ]
    }
   ],
   "source": [
    "target_rgb = np.array([66,104,91])\n",
    "best_camouflage = simulate(50, target_rgb, 20, 0.05 , 0.05)\n",
    "\n",
    "print(\"Target is %s and the best campuflage is %s .\" % (target_rgb, best_camouflage))"
   ]
  },
  {
   "cell_type": "code",
   "execution_count": 14,
   "metadata": {
    "colab": {
     "base_uri": "https://localhost:8080/",
     "height": 341
    },
    "id": "a9Tt4QfAPOYs",
    "outputId": "2b808922-b347-430d-f20e-8b6cb3a3ad3e"
   },
   "outputs": [
    {
     "data": {
      "image/png": "[encoded data removed]",
      "text/plain": [
       "<Figure size 800x400 with 2 Axes>"
      ]
     },
     "metadata": {},
     "output_type": "display_data"
    }
   ],
   "source": [
    "# Create a figure and axis to plot the RGB values\n",
    "fig, ax = plt.subplots(1, 2, figsize=(8, 4))\n",
    "\n",
    "# Plot each RGB value in its own axis\n",
    "ax[0].imshow(np.reshape(target_rgb/255, (1, 1, 3)))\n",
    "ax[1].imshow(np.reshape(best_camouflage/255, (1, 1, 3)))\n",
    "\n",
    "# Remove the axis labels and grid\n",
    "ax[0].axis(\"off\")\n",
    "ax[1].axis(\"off\")\n",
    "\n",
    "#Add titles\n",
    "ax[0].set_title(\"Target Color\")\n",
    "ax[1].set_title(\"Camouflage Color\")\n",
    "# Show the plot\n",
    "plt.show()"
   ]
  },
  {
   "cell_type": "markdown",
   "metadata": {
    "id": "Za-zEvmtEPhX"
   },
   "source": [
    "#Now, let us extend the above example to a 2D image <br>\n",
    "The following code is similar to the previous code in terms of the basic structure and the purpose of the code, which is to simulate an evolutionary process except here we are working with 2-dimensional images rather than a single RGB value. This helps us visualize the evolution process.  \n",
    "<p>\n",
    "We will pick a specific color as our target color, for example, yellow with RGB = [222, 165, 33] and watch the random pixels evolve into this color.\n"
   ]
  },
  {
   "cell_type": "code",
   "execution_count": 15,
   "metadata": {
    "id": "faabk3nmpVz9"
   },
   "outputs": [],
   "source": [
    "import random\n",
    "import numpy as np\n",
    "import matplotlib.pyplot as plt"
   ]
  },
  {
   "cell_type": "code",
   "execution_count": 16,
   "metadata": {
    "id": "pEI9cVJEpVsl"
   },
   "outputs": [],
   "source": [
    "def calc_fitness(chromosome, target_grid):\n",
    "    \"\"\"\n",
    "    Calculates the fitness of a chromosome by comparing it to the target grid.\n",
    "\n",
    "    Parameters:\n",
    "        chromosome (np.array): The chromosome to calculate the fitness for.\n",
    "        target_grid (np.array): The target grid to compare the chromosome to.\n",
    "\n",
    "    Returns:\n",
    "        float: The fitness of the chromosome.\n",
    "    \"\"\"\n",
    "    return np.mean(np.abs(chromosome - target_grid))"
   ]
  },
  {
   "cell_type": "code",
   "execution_count": 17,
   "metadata": {
    "id": "853wthbWpVkg"
   },
   "outputs": [],
   "source": [
    "\n",
    "def evolve_population(population, target_grid, mutation_rate, elite_ratio):\n",
    "    \"\"\"\n",
    "    Evolves the population by selecting the best chromosomes (elites), breeding them, and mutating the offspring.\n",
    "\n",
    "    Parameters:\n",
    "        population (list of np.array): The current population of chromosomes.\n",
    "        target_grid (np.array): The target grid to compare the chromosomes to.\n",
    "        mutation_rate (float): The rate of mutation for the offspring.\n",
    "        elite_ratio (float): The ratio of the population that should be considered as elites.\n",
    "\n",
    "    Returns:\n",
    "        list of np.array: The evolved population of chromosomes.\n",
    "    \"\"\"\n",
    "    # Calculate fitness values for each chromosome in the population\n",
    "    fitness_values = [calc_fitness(c, target_grid) for c in population]\n",
    "\n",
    "    # Determine the indices of the best chromosomes (elites)\n",
    "    elite_index = np.argsort(fitness_values)[:int(len(population) * elite_ratio)]\n",
    "\n",
    "    # Select the best chromosomes (elites) from the population\n",
    "    elites = [population[i] for i in elite_index]\n",
    "\n",
    "    # Initialize the new population\n",
    "    new_population = []\n",
    "\n",
    "    # Create new offspring by breeding the elites\n",
    "    while len(new_population) < len(population) - len(elites):\n",
    "        # Select two parent chromosomes randomly from the elites\n",
    "        parent1, parent2 = random.choices(elites, k=2)\n",
    "\n",
    "        # Initialize the child chromosome\n",
    "        child = np.zeros(parent1.shape)\n",
    "\n",
    "        # Loop through the elements of the parent chromosomes\n",
    "        for i in range(len(parent1)):\n",
    "            for j in range(len(parent1[i])):\n",
    "                for k in range(len(parent1[i][j])):\n",
    "                    # Randomly inherit the element from either parent\n",
    "                    if random.random() < 0.5:\n",
    "                        child[i][j][k] = parent1[i][j][k]\n",
    "                    else:\n",
    "                        child[i][j][k] = parent2[i][j][k]\n",
    "\n",
    "                    # Mutate the element with a certain probability\n",
    "                    if random.random() < mutation_rate:\n",
    "                        child[i][j][k] = np.random.randint(0, 256)\n",
    "\n",
    "        # Add the child chromosome to the new population\n",
    "        new_population.append(child)\n",
    "\n",
    "    # Combine the elites and the offspring to form the evolved population\n",
    "    return elites + new_population\n"
   ]
  },
  {
   "cell_type": "code",
   "execution_count": 18,
   "metadata": {
    "id": "_64Cxmx1phBi"
   },
   "outputs": [],
   "source": [
    "\n",
    "images =[]\n",
    "def simulate(size, target_grid, generations, mutation_rate, elite_ratio):\n",
    "    \"\"\"\n",
    "    This function simulates the evolutionary process to generate new images.\n",
    "\n",
    "    Parameters:\n",
    "    size (int) : The size of the population.\n",
    "    target_grid (numpy array) : The target image for the evolutionary process.\n",
    "    generations (int) : The number of generations to run the simulation for.\n",
    "    mutation_rate (float) : The rate of mutation of the images in the population.\n",
    "    elite_ratio (float) : The ratio of the population that will be considered as elites.\n",
    "\n",
    "    Returns:\n",
    "    (tuple) : A tuple of the best image generated by the simulation and a list of all images generated in the simulation.\n",
    "    \"\"\"\n",
    "    # The size of each image in the population\n",
    "    grid_size = (16, 16, 3)\n",
    "    # initialize the population with random values\n",
    "    population = [np.random.randint(0, 256, size=grid_size) for _ in range(size)]\n",
    "\n",
    "\n",
    "    for i in range(generations):\n",
    "      # evolve the population for each generation\n",
    "        population = evolve_population(population, target_grid, mutation_rate, elite_ratio)\n",
    "         # find the chromosome with the best fitness value\n",
    "        best_fit = min(population, key=lambda c: calc_fitness(c, target_grid))\n",
    "        # print the generation number and best fitness value\n",
    "        print(f'Generation {i}: Best fitness {calc_fitness(best_fit, target_grid)}')\n",
    "\n",
    "        # store the generated image\n",
    "        images.append(best_fit.astype(np.uint8))\n",
    "\n",
    "        # commented out code for displaying or saving images\n",
    "        #fig, ax = plt.subplots()\n",
    "        #ax.imshow(best_fit.astype(np.uint8))\n",
    "        #plt.title(f'Generation {i}')\n",
    "        #fig.tight_layout()\n",
    "        #plt.show()\n",
    "        # filename = f'camo_images/yellow/gen_{i}.png'\n",
    "        # plt.savefig(filename)\n",
    "\n",
    "    # Return the best fit image and the list of all images\n",
    "    return min(population, key=lambda c: calc_fitness(c, target_grid)), images"
   ]
  },
  {
   "cell_type": "code",
   "execution_count": 19,
   "metadata": {
    "colab": {
     "base_uri": "https://localhost:8080/"
    },
    "id": "mGfWR_azERVc",
    "outputId": "f16ba74b-6607-4f83-cebd-e35560971fd9"
   },
   "outputs": [
    {
     "name": "stdout",
     "output_type": "stream",
     "text": [
      "Generation 0: Best fitness 81.48177083333333\n",
      "Generation 1: Best fitness 78.52734375\n",
      "Generation 2: Best fitness 75.7265625\n",
      "Generation 3: Best fitness 75.33984375\n",
      "Generation 4: Best fitness 73.41666666666667\n",
      "Generation 5: Best fitness 71.82421875\n",
      "Generation 6: Best fitness 69.57291666666667\n",
      "Generation 7: Best fitness 68.67578125\n",
      "Generation 8: Best fitness 67.31380208333333\n",
      "Generation 9: Best fitness 65.69140625\n",
      "Generation 10: Best fitness 64.49739583333333\n",
      "Generation 11: Best fitness 63.712239583333336\n",
      "Generation 12: Best fitness 62.272135416666664\n",
      "Generation 13: Best fitness 61.87109375\n",
      "Generation 14: Best fitness 60.795572916666664\n",
      "Generation 15: Best fitness 59.643229166666664\n",
      "Generation 16: Best fitness 59.013020833333336\n",
      "Generation 17: Best fitness 58.140625\n",
      "Generation 18: Best fitness 57.462239583333336\n",
      "Generation 19: Best fitness 56.713541666666664\n",
      "Generation 20: Best fitness 56.358072916666664\n",
      "Generation 21: Best fitness 55.423177083333336\n",
      "Generation 22: Best fitness 55.055989583333336\n",
      "Generation 23: Best fitness 54.166666666666664\n",
      "Generation 24: Best fitness 52.635416666666664\n",
      "Generation 25: Best fitness 52.611979166666664\n",
      "Generation 26: Best fitness 51.895833333333336\n",
      "Generation 27: Best fitness 51.153645833333336\n",
      "Generation 28: Best fitness 50.80859375\n",
      "Generation 29: Best fitness 50.524739583333336\n",
      "Generation 30: Best fitness 49.809895833333336\n",
      "Generation 31: Best fitness 49.665364583333336\n",
      "Generation 32: Best fitness 49.005208333333336\n",
      "Generation 33: Best fitness 48.59375\n",
      "Generation 34: Best fitness 48.15625\n",
      "Generation 35: Best fitness 47.979166666666664\n",
      "Generation 36: Best fitness 47.583333333333336\n",
      "Generation 37: Best fitness 46.859375\n",
      "Generation 38: Best fitness 46.651041666666664\n",
      "Generation 39: Best fitness 46.325520833333336\n",
      "Generation 40: Best fitness 45.69140625\n",
      "Generation 41: Best fitness 45.5625\n",
      "Generation 42: Best fitness 44.6796875\n",
      "Generation 43: Best fitness 44.51171875\n",
      "Generation 44: Best fitness 43.856770833333336\n",
      "Generation 45: Best fitness 43.735677083333336\n",
      "Generation 46: Best fitness 43.388020833333336\n",
      "Generation 47: Best fitness 43.205729166666664\n",
      "Generation 48: Best fitness 42.513020833333336\n",
      "Generation 49: Best fitness 41.93359375\n"
     ]
    }
   ],
   "source": [
    "target_grid = np.zeros((16, 16, 3), dtype=np.uint8)\n",
    "#Yellow color from African Savannah [222, 165, 33]\n",
    "# Green grass [0, 154, 23]\n",
    "target_grid[:] = [222, 165, 33]\n",
    "\n",
    "pop_size = 100\n",
    "num_generations = 50\n",
    "mut_rate = 0.01\n",
    "elite_ratio = 0.1\n",
    "best_camouflage, images = simulate(pop_size, target_grid, num_generations, mut_rate, elite_ratio)\n",
    "\n"
   ]
  },
  {
   "cell_type": "markdown",
   "metadata": {
    "id": "D9tB_btxDGLD"
   },
   "source": [
    "Let us plot images in a grid to visualize the evolution"
   ]
  },
  {
   "cell_type": "code",
   "execution_count": 20,
   "metadata": {
    "colab": {
     "base_uri": "https://localhost:8080/",
     "height": 815
    },
    "id": "ZVkbE6Sq6Ual",
    "outputId": "7cf71a79-d9bb-4490-b0c8-5761ec090cf2"
   },
   "outputs": [
    {
     "data": {
      "image/png": "[encoded data removed]",
      "text/plain": [
       "<Figure size 2000x2000 with 50 Axes>"
      ]
     },
     "metadata": {},
     "output_type": "display_data"
    }
   ],
   "source": [
    "import numpy as np\n",
    "import matplotlib.pyplot as plt\n",
    "\n",
    "## Function to display a grid of images\n",
    "def display_images(images, num_images=50, rows=10, cols=5):\n",
    "    fig, axs = plt.subplots(rows, cols, figsize=(20, 20))\n",
    "    for i, ax in enumerate(axs.ravel()):\n",
    "        if i < num_images:\n",
    "            ax.imshow(images[i], cmap='gray')\n",
    "            ax.axis('off')\n",
    "        else:\n",
    "            fig.delaxes(ax)\n",
    "    plt.tight_layout()\n",
    "    plt.show()\n",
    "\n",
    "# Plot images:\n",
    "\n",
    "display_images(images, rows=5, cols=10)\n"
   ]
  },
  {
   "cell_type": "code",
   "execution_count": null,
   "metadata": {},
   "outputs": [],
   "source": []
  },
  {
   "cell_type": "code",
   "execution_count": null,
   "metadata": {},
   "outputs": [],
   "source": []
  }
 ],
 "metadata": {
  "colab": {
   "authorship_tag": "ABX9TyNpsfDJ4tIKwvKvvLaYi44H",
   "include_colab_link": true,
   "provenance": []
  },
  "kernelspec": {
   "display_name": "Python 3 (ipykernel)",
   "language": "python",
   "name": "python3"
  },
  "language_info": {
   "codemirror_mode": {
    "name": "ipython",
    "version": 3
   },
   "file_extension": ".py",
   "mimetype": "text/x-python",
   "name": "python",
   "nbconvert_exporter": "python",
   "pygments_lexer": "ipython3",
   "version": "3.11.7"
  }
 },
 "nbformat": 4,
 "nbformat_minor": 1
}
