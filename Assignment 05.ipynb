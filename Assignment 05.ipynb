{
 "cells": [
  {
   "cell_type": "markdown",
   "id": "0542b5f4",
   "metadata": {},
   "source": [
    "<h1>Assignment 05</h1>\n"
   ]
  },
  {
   "cell_type": "code",
   "execution_count": 6,
   "id": "2b223cd3",
   "metadata": {},
   "outputs": [
    {
     "name": "stdout",
     "output_type": "stream",
     "text": [
      "Requirement already satisfied: ucxdsa in c:\\users\\c\\anaconda3\\lib\\site-packages (2024.4.23)\n"
     ]
    }
   ],
   "source": [
    "!pip install ucxdsa\n",
    "\n",
    "import dsa"
   ]
  },
  {
   "cell_type": "markdown",
   "id": "4fc3ba4b",
   "metadata": {},
   "source": [
    "<h2>1.</h2>\n",
    "Write a function to get the last item in a complete tree. This is easy to do if the complete tree were implemented using arrays. How would we do this if the tree was implemented using nodes?\n"
   ]
  },
  {
   "cell_type": "code",
   "execution_count": 7,
   "id": "1ad2a0b2",
   "metadata": {},
   "outputs": [],
   "source": [
    "from dsa.tree import Tree,Node\n",
    "from dsa.pretty_print import tree_print\n"
   ]
  },
  {
   "cell_type": "code",
   "execution_count": 8,
   "id": "580a777c",
   "metadata": {},
   "outputs": [],
   "source": [
    "class TreeNode: \n",
    "    def __init__(self, value):\n",
    "        self.value = value\n",
    "        self.left = None\n",
    "        self.right = None\n",
    "\n",
    "def Last_item(root): #BFS\n",
    "    if root is None:\n",
    "        return None\n",
    "\n",
    "    queue = [root]\n",
    "    last = None\n",
    "\n",
    "    while queue:\n",
    "        node = queue.pop(0)\n",
    "        last = node.value\n",
    "\n",
    "        if node.left:\n",
    "            queue.append(node.left)\n",
    "        if node.right:\n",
    "            queue.append(node.right)\n",
    "\n",
    "    return last"
   ]
  },
  {
   "cell_type": "code",
   "execution_count": 9,
   "id": "19341d00",
   "metadata": {},
   "outputs": [
    {
     "name": "stdout",
     "output_type": "stream",
     "text": [
      "Last node: 2123\n"
     ]
    }
   ],
   "source": [
    "root = TreeNode(5)\n",
    "root.left = TreeNode(12)\n",
    "root.right = TreeNode(523)\n",
    "root.left.left = TreeNode(713)\n",
    "root.left.left.left = TreeNode(2123)\n",
    "root.left.right = TreeNode(863)\n",
    "root.right.left = TreeNode(1119)\n",
    "root.right.right = TreeNode(1210)\n",
    "\n",
    "print(\"Last node:\", Last_item(root))"
   ]
  },
  {
   "cell_type": "markdown",
   "id": "fa227437",
   "metadata": {},
   "source": [
    "<h2>2.</h2>\n",
    "Write a function that accepts a string and returns an array of the characters in the string sorted by frequency (from most frequent to least frequent).\n",
    "\n",
    "You must use a heap to sort the characters. You can use the heap in the dsa package, Python's heapq package or write your own. "
   ]
  },
  {
   "cell_type": "code",
   "execution_count": 10,
   "id": "81c11896",
   "metadata": {},
   "outputs": [],
   "source": [
    "from dsa.heap import Heap\n",
    "from dsa.pretty_print import heap_print\n"
   ]
  },
  {
   "cell_type": "code",
   "execution_count": 11,
   "id": "44a0c553",
   "metadata": {
    "scrolled": true
   },
   "outputs": [
    {
     "data": {
      "text/plain": [
       "['a', 's', 'd', 'f', 'g', 'u', 'j', 'h']"
      ]
     },
     "execution_count": 11,
     "metadata": {},
     "output_type": "execute_result"
    }
   ],
   "source": [
    "def string_freq(s):\n",
    "    dic = {}\n",
    "    for letter in s:\n",
    "        if letter in dic:\n",
    "            dic[letter] += 1\n",
    "        else:\n",
    "            dic[letter] = 1\n",
    "    h = Heap()\n",
    "    for key, value in dic.items():\n",
    "        h.insert((value, key))\n",
    "    result = []\n",
    "    while not h.is_empty():\n",
    "        result.append(h.pop()[1])\n",
    "    return result \n",
    "\n",
    "result = string_freq('aaaaaasssssddddfffgghju')\n",
    "result"
   ]
  },
  {
   "cell_type": "markdown",
   "id": "09a5787d",
   "metadata": {},
   "source": [
    "<h2>3.</h2>\n",
    "Write a function that accepts an array of words and returns the longest common prefix. Write it so that it performs efficiently.\n"
   ]
  },
  {
   "cell_type": "code",
   "execution_count": 12,
   "id": "faa41079",
   "metadata": {},
   "outputs": [
    {
     "name": "stdout",
     "output_type": "stream",
     "text": [
      "hol\n"
     ]
    }
   ],
   "source": [
    "def prefix_array(array):\n",
    "    if not array: \n",
    "        return \"\"\n",
    "    \n",
    "    prefix = array[0] \n",
    "    for letter in array[1:]: \n",
    "        while letter.find(prefix) != 0:\n",
    "            prefix = prefix[:-1] \n",
    "            if not prefix:\n",
    "                return \"\"\n",
    "    return prefix\n",
    "\n",
    "array = [\"hola\", \"holo\", \"holand\"]\n",
    "common_prefix = prefix_array(array)\n",
    "print(common_prefix)"
   ]
  },
  {
   "cell_type": "markdown",
   "id": "3d62462f",
   "metadata": {},
   "source": [
    "<h2>4.</h2>\n",
    "Write a function that accepts an array of words and then returns the shortest unique prefix of each word. \n"
   ]
  },
  {
   "cell_type": "code",
   "execution_count": 2,
   "id": "d2121945",
   "metadata": {},
   "outputs": [
    {
     "name": "stdout",
     "output_type": "stream",
     "text": [
      "{'apple': 'a', 'banana': 'b', 'cherry': 'ch', 'cranberry': 'cr', 'grape': 'grape', 'grapefruit': 'grapef'}\n"
     ]
    }
   ],
   "source": [
    "class TrieNode:\n",
    "    def __init__(self):\n",
    "        self.children = {}\n",
    "        self.count = 0\n",
    "\n",
    "    def insert_word(self, word):\n",
    "        node = self\n",
    "        for char in word:\n",
    "            if char not in node.children:\n",
    "                node.children[char] = TrieNode()\n",
    "            node = node.children[char]\n",
    "            node.count += 1\n",
    "\n",
    "    def find_shortest_unique_prefix(self, word): \n",
    "        node = self\n",
    "        prefix = ''\n",
    "        for char in word:\n",
    "            node = node.children[char]\n",
    "            prefix += char\n",
    "            if node.count == 1:\n",
    "                break\n",
    "        return prefix\n",
    "\n",
    "    def shortest_unique_prefix(self, words): \n",
    "        root = self\n",
    "        for word in words:\n",
    "            root.insert_word(word)\n",
    "        prefixes = {}\n",
    "        for word in words:\n",
    "            prefixes[word] = root.find_shortest_unique_prefix(word) \n",
    "        return prefixes\n",
    "\n",
    "words = ['apple', 'banana', 'cherry', 'cranberry', 'grape', 'grapefruit']\n",
    "root = TrieNode() \n",
    "print(root.shortest_unique_prefix(words))  \n",
    "\n"
   ]
  },
  {
   "cell_type": "code",
   "execution_count": null,
   "id": "313e9de3",
   "metadata": {},
   "outputs": [],
   "source": []
  }
 ],
 "metadata": {
  "kernelspec": {
   "display_name": "Python 3 (ipykernel)",
   "language": "python",
   "name": "python3"
  },
  "language_info": {
   "codemirror_mode": {
    "name": "ipython",
    "version": 3
   },
   "file_extension": ".py",
   "mimetype": "text/x-python",
   "name": "python",
   "nbconvert_exporter": "python",
   "pygments_lexer": "ipython3",
   "version": "3.11.7"
  }
 },
 "nbformat": 4,
 "nbformat_minor": 5
}
