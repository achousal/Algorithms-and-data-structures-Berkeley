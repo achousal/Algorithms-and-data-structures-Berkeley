{
 "cells": [
  {
   "cell_type": "markdown",
   "id": "006fbe74",
   "metadata": {},
   "source": [
    "<h1>Assignment 03</h1>\n"
   ]
  },
  {
   "cell_type": "markdown",
   "id": "df34de90",
   "metadata": {},
   "source": [
    "clases here because dsa package did not have all clases available."
   ]
  },
  {
   "cell_type": "code",
   "execution_count": 1,
   "id": "340ce9d7",
   "metadata": {},
   "outputs": [
    {
     "name": "stdout",
     "output_type": "stream",
     "text": [
      "Requirement already satisfied: ucxdsa in c:\\users\\c\\anaconda3\\lib\\site-packages (2024.2.25)\n"
     ]
    }
   ],
   "source": [
    "!pip install ucxdsa\n",
    "import dsa"
   ]
  },
  {
   "cell_type": "markdown",
   "id": "75599415-32b8-4edc-97e1-acef0d31e660",
   "metadata": {},
   "source": [
    "# Assistant\n",
    "I can still provide guidance and answer questions without a live kernel. Feel free to ask any questions you have related to Jupyter Notebook or any other topic, and I'll do my best to assist you."
   ]
  },
  {
   "cell_type": "markdown",
   "id": "21f2b539",
   "metadata": {},
   "source": [
    "<h2>1.</h2>\n",
    "Write a function to reverse the elements in a doubly linked list. Do not simply print it out. It must have the references correctly set in reversed order.\n",
    "Also, write a print method – this should help with debugging."
   ]
  },
  {
   "cell_type": "code",
   "execution_count": 2,
   "id": "191400f9-7640-487a-a46b-56dc2dbd1b43",
   "metadata": {},
   "outputs": [
    {
     "name": "stdout",
     "output_type": "stream",
     "text": [
      "Help on package dsa:\n",
      "\n",
      "NAME\n",
      "    dsa\n",
      "\n",
      "DESCRIPTION\n",
      "    dsa package for UC Berkeley Extension's Computer Science X404.1 Data Structures and Algorithms class\n",
      "    Last Revision: 2/25/2024\n",
      "\n",
      "PACKAGE CONTENTS\n",
      "    array\n",
      "    doublylinkedlist\n",
      "    graph\n",
      "    hashtable\n",
      "    heap\n",
      "    huffman\n",
      "    pretty_print\n",
      "    queue\n",
      "    singlylinkedlist\n",
      "    sorttools\n",
      "    stack\n",
      "    tree\n",
      "    trie\n",
      "\n",
      "DATA\n",
      "    version = '2024.2.25'\n",
      "\n",
      "FILE\n",
      "    c:\\users\\c\\anaconda3\\lib\\site-packages\\dsa\\__init__.py\n",
      "\n",
      "\n"
     ]
    }
   ],
   "source": [
    "help(dsa)"
   ]
  },
  {
   "cell_type": "code",
   "execution_count": 3,
   "id": "115abe84-ac16-4e91-a45d-b552a5efa6fd",
   "metadata": {},
   "outputs": [],
   "source": [
    "from dsa.doublylinkedlist import DoublyLinkedList, Node\n",
    "\n",
    "n1 = Node(10)\n",
    "n2 = Node(20)\n",
    "n3 = Node(30)\n",
    "n4 = Node(40)\n",
    "\n",
    "n1.next = n2\n",
    "n2.prev = n1\n",
    "n2.next = n3\n",
    "n3.prev = n2\n",
    "n3.next = n4\n",
    "n4.prev = n3\n",
    "\n",
    "dlink = DoublyLinkedList(n1, n4, 4)\n",
    "\n",
    "def print_list(self):\n",
    "    current = self.head\n",
    "    while current is not None:\n",
    "        print(current.value, end=\" \")\n",
    "        current = current.next\n",
    "    print()"
   ]
  },
  {
   "cell_type": "code",
   "execution_count": 4,
   "id": "a1a34634-b640-4c37-b521-aa6e4cf302df",
   "metadata": {},
   "outputs": [
    {
     "name": "stdout",
     "output_type": "stream",
     "text": [
      "40 30 20 10 \n"
     ]
    }
   ],
   "source": [
    "def reverse(link):\n",
    "    current = link.head\n",
    "    while current is not None:\n",
    "        current.prev, current.next = current.next, current.prev\n",
    "        current = current.prev\n",
    "    link.head, link.tail = link.tail, link.head\n",
    "reverse(dlink)\n",
    "print_list(dlink)\n"
   ]
  },
  {
   "cell_type": "markdown",
   "id": "3fba38d8",
   "metadata": {},
   "source": [
    "<h2>2.</h2>\n",
    "Write a function that takes two linked list and outputs a union of these two linked lists. Make it as efficient as possible. You can assume that each list consists of unique numbers and are not necessarily sorted. Also, the order of the output is not significant\n",
    "\n",
    "For example:\n",
    "\n",
    " [2, 10, 5, 3, 4] and [4, 7, 8, 3, 11] has a union of [2, 10, 3, 4, 5, 7, 8, 11]"
   ]
  },
  {
   "cell_type": "code",
   "execution_count": 21,
   "id": "744cc831-b2ac-4b70-9b6f-9485004896fe",
   "metadata": {},
   "outputs": [
    {
     "name": "stdout",
     "output_type": "stream",
     "text": [
      "[10, 20, 30, 40, 50, 60]\n",
      "30\n"
     ]
    }
   ],
   "source": [
    "from dsa.singlylinkedlist import LinkedList, Node\n",
    "\n",
    "n1 = Node(10)\n",
    "n2 = Node(20)\n",
    "n3 = Node(30)\n",
    "n4 = Node(40)\n",
    "n1.next = n2\n",
    "n2.next = n3\n",
    "n3.next = n4\n",
    "slink1 = LinkedList(n1, n4, 4)\n",
    "\n",
    "m1 = Node(20)\n",
    "m2 = Node(30)\n",
    "m3 = Node(50)\n",
    "m4 = Node(60)\n",
    "m1.next = m2\n",
    "m2.next = m3\n",
    "m3.next = m4\n",
    "slink2 = LinkedList(m1, m4, 4)\n",
    "\n",
    "def listmerger(list1, list2):\n",
    "    merger = []\n",
    "    current = list1.head\n",
    "    while current is not None:\n",
    "        if current.value not in merger:\n",
    "            merger.append(current.value)\n",
    "        current = current.next\n",
    "    \n",
    "    current = list2.head\n",
    "    while current is not None:\n",
    "        if current.value not in merger:\n",
    "            merger.append(current.value)\n",
    "        current = current.next\n",
    "    \n",
    "    return merger\n",
    "\n",
    "merged_list = listmerger(slink1, slink2)\n",
    "print(merged_list)\n",
    "print(n1.next.next.value)        "
   ]
  },
  {
   "cell_type": "markdown",
   "id": "b207a49b",
   "metadata": {},
   "source": [
    "<h2>3.</h2>\n",
    "Write the following binary search tree functions to:\n",
    "\n",
    "Return the minimum value\n",
    "\n",
    "Return the maximum value\n",
    "\n",
    "Return the sum of all values"
   ]
  },
  {
   "cell_type": "code",
   "execution_count": 9,
   "id": "2ef36979-53f7-428a-a846-b78a24c4bcae",
   "metadata": {},
   "outputs": [],
   "source": [
    "from dsa.tree import Tree, Node \n",
    "from dsa.pretty_print import tree_print"
   ]
  },
  {
   "cell_type": "code",
   "execution_count": 14,
   "id": "5e1c0676",
   "metadata": {},
   "outputs": [
    {
     "name": "stdout",
     "output_type": "stream",
     "text": [
      "           30           \n",
      "     3           63     \n",
      "        6     31   6312 \n",
      "               34       \n",
      "\n",
      "Minimum value: 3\n",
      "Maximum value: 6312\n",
      "Sum of all values: 6479\n"
     ]
    }
   ],
   "source": [
    "class TreeWithMinMax(Tree):\n",
    "    def minval(self, node=None):\n",
    "        if node is None:\n",
    "            node = self.root \n",
    "        if node.left is None:\n",
    "            return node\n",
    "        else:\n",
    "            return self.minval(node.left)\n",
    "\n",
    "    def maxval(self, node=None):\n",
    "        if node is None:\n",
    "            node = self.root \n",
    "        if node.right is None:\n",
    "            return node\n",
    "        else:\n",
    "            return self.maxval(node.right)\n",
    "    def sumval(self, node=None):\n",
    "        if node is None:\n",
    "            node = self.root \n",
    "        sum = 0\n",
    "        q = []\n",
    "        q.append(node)\n",
    "        while len(q)>0:\n",
    "            temp = q.pop(0)\n",
    "            sum += temp.value\n",
    "            if (temp.left != None):\n",
    "                q.append(temp.left)\n",
    "            if temp.right != None:\n",
    "                q.append(temp.right)\n",
    "        return sum\n",
    "            \n",
    "tree = TreeWithMinMax()\n",
    "for i in [30, 3, 63, 6, 31, 6312, 34]:\n",
    "    tree.insert(i)\n",
    "tree_print(tree)\n",
    "\n",
    "minvalue = tree.minval()\n",
    "maxvalue = tree.maxval()\n",
    "print(\"Minimum value:\", minvalue.value)\n",
    "print(\"Maximum value:\", maxvalue.value)\n",
    "print(\"Sum of all values:\", tree.sumval())"
   ]
  },
  {
   "cell_type": "markdown",
   "id": "da3b8940",
   "metadata": {},
   "source": [
    "<h2>4.</h2>\n",
    "Write a function that accepts a binary tree and verifies whether it fulfills binary search tree conditions."
   ]
  },
  {
   "cell_type": "code",
   "execution_count": 71,
   "id": "204badfa",
   "metadata": {},
   "outputs": [],
   "source": [
    "from dsa.tree import Node, Tree\n",
    "from dsa.pretty_print import tree_print"
   ]
  },
  {
   "cell_type": "code",
   "execution_count": 63,
   "id": "ba4f0981",
   "metadata": {},
   "outputs": [
    {
     "name": "stdout",
     "output_type": "stream",
     "text": [
      "Is binary tree ordered: True\n",
      "Node count: 7\n",
      "Maximum level: 3\n",
      "Max nodes per level: [1, 2, 4]\n",
      "Binary tree is complete\n"
     ]
    }
   ],
   "source": [
    "import math\n",
    "\n",
    "class Node:\n",
    "    def __init__(self, value):\n",
    "        self.value = value\n",
    "        self.left = None\n",
    "        self.right = None\n",
    "        \n",
    "class BinaryTreeVerify:\n",
    "    def __init__(self):\n",
    "        self.root = None\n",
    "\n",
    "    def Verify(self, node=None, prev_value=float('-inf')):\n",
    "        if node is None:\n",
    "            return True\n",
    "        if not self.Verify(node.left, prev_value):\n",
    "            return False\n",
    "        if node.value <= prev_value:\n",
    "            return False\n",
    "        prev_value = node.value\n",
    "        return self.Verify(node.right, prev_value)\n",
    "    \n",
    "    def count_nodes_and_levels(self, root):\n",
    "        if root is None:\n",
    "            return 0, 0\n",
    "        node_count = 0\n",
    "        max_level = 0\n",
    "        def dfs(node, level):\n",
    "            nonlocal node_count, max_level\n",
    "            if node is None:\n",
    "                return\n",
    "            node_count += 1\n",
    "            max_level = max(max_level, level)\n",
    "            dfs(node.left, level + 1)\n",
    "            dfs(node.right, level + 1)\n",
    "        dfs(root, 1)\n",
    "        return node_count, max_level\n",
    "\n",
    "    def max_possible_nodes_per_level(self, max_level):\n",
    "        max_nodes = []\n",
    "        for level in range(1, max_level + 1):\n",
    "            max_nodes.append(2 ** (level - 1))\n",
    "        return max_nodes\n",
    "\n",
    "binary_tree = BinaryTreeVerify()\n",
    "\n",
    "binary_tree.root = Node(5)\n",
    "binary_tree.root.left = Node(3)\n",
    "binary_tree.root.right = Node(7)\n",
    "binary_tree.root.left.left = Node(2)\n",
    "binary_tree.root.left.right = Node(4)\n",
    "binary_tree.root.right.left = Node(6)\n",
    "binary_tree.root.right.right = Node(8)\n",
    "\n",
    "print(\"Is binary tree ordered:\", binary_tree.Verify(binary_tree.root))\n",
    "node_count, max_level = binary_tree.count_nodes_and_levels(binary_tree.root)\n",
    "\n",
    "print(\"Node count:\", node_count)\n",
    "print(\"Maximum level:\", max_level)\n",
    "\n",
    "max_nodes_per_level = binary_tree.max_possible_nodes_per_level(max_level)\n",
    "print(\"Max nodes per level:\", max_nodes_per_level)\n",
    "\n",
    "if node_count >= sum(max_nodes_per_level) and binary_tree.Verify(binary_tree.root) == True:\n",
    "    print(\"Binary tree is complete\")\n",
    "else:\n",
    "    print(\"Binary tree is not complete\")\n"
   ]
  },
  {
   "cell_type": "code",
   "execution_count": null,
   "id": "499c2e2a",
   "metadata": {},
   "outputs": [],
   "source": []
  }
 ],
 "metadata": {
  "kernelspec": {
   "display_name": "Python 3 (ipykernel)",
   "language": "python",
   "name": "python3"
  },
  "language_info": {
   "codemirror_mode": {
    "name": "ipython",
    "version": 3
   },
   "file_extension": ".py",
   "mimetype": "text/x-python",
   "name": "python",
   "nbconvert_exporter": "python",
   "pygments_lexer": "ipython3",
   "version": "3.11.7"
  }
 },
 "nbformat": 4,
 "nbformat_minor": 5
}
