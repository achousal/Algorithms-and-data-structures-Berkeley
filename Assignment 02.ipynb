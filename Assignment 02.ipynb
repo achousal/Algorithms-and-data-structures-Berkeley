{
 "cells": [
  {
   "cell_type": "markdown",
   "id": "3ea96650",
   "metadata": {},
   "source": [
    "<h1>Assignment 2</h1>"
   ]
  },
  {
   "cell_type": "markdown",
   "id": "990481c5",
   "metadata": {},
   "source": [
    "<h2>1.</h2>"
   ]
  },
  {
   "cell_type": "markdown",
   "id": "b044deaa",
   "metadata": {},
   "source": [
    "<h3>Stacks</h3>\n",
    "Looking at pictures in a pile\n",
    "Layering for cold weather\n",
    "\n",
    "<h3>Queues</h3>\n",
    "Spotify music\n",
    "Ants carying leafs to their colony\n",
    "\n",
    "\n",
    "<h3>Deques</h3>\n",
    "putting weights on a olympic bar\n",
    "Sliding window algorithm"
   ]
  },
  {
   "cell_type": "markdown",
   "id": "a766db7e",
   "metadata": {},
   "source": [
    "<h2>2.</h2>"
   ]
  },
  {
   "cell_type": "markdown",
   "id": "0bd54a88",
   "metadata": {},
   "source": [
    "Write a function that returns a Boolean as to whether a string has balanced braces. You may ignore non-bracket characters. For our purposes, the following are bracket characters: (){}[]"
   ]
  },
  {
   "cell_type": "code",
   "execution_count": 49,
   "id": "50205b76",
   "metadata": {},
   "outputs": [
    {
     "name": "stdout",
     "output_type": "stream",
     "text": [
      "[ ]: True\n",
      "{}{}[](): True\n",
      "[{()}]: True\n",
      "(()[[[()({})]]]): True\n",
      "[ ] [: False\n",
      "{{}[](}): False\n",
      "[{)}]: False\n",
      "(()[()({})]]]): False\n"
     ]
    }
   ],
   "source": [
    "def bracketTF(string):\n",
    "    stack = []\n",
    "\n",
    "    pairs = {')': '(', '}': '{', ']': '['}\n",
    "\n",
    "    for br in string:\n",
    "        if br in pairs.values():\n",
    "            stack.append(br)\n",
    "        elif br in pairs.keys():\n",
    "            if not stack or stack.pop() != pairs[br]:\n",
    "                return False\n",
    "    return not stack\n",
    "\n",
    "strings = [\n",
    "    \"[ ]\",\n",
    "    \"{}{}[]()\",\n",
    "    \"[{()}]\",\n",
    "    \"(()[[[()({})]]])\",\n",
    "    \"[ ] [\",\n",
    "    \"{{}[](})\",\n",
    "    \"[{)}]\",\n",
    "    \"(()[()({})]]])\",\n",
    "]\n",
    "    \n",
    "for string in strings:\n",
    "    if bracketTF(string):\n",
    "        print(f\"{string}: True\")\n",
    "    else:\n",
    "        print(f\"{string}: False\")\n"
   ]
  },
  {
   "cell_type": "markdown",
   "id": "176e1ab9",
   "metadata": {},
   "source": [
    "<h2>3.</h2>"
   ]
  },
  {
   "cell_type": "markdown",
   "id": "113b629c",
   "metadata": {},
   "source": [
    "Fully implement the Deque data structure (you may choose either a static or dynamic implementation) using an array.  Do not use any built-in methods except for the index operator. Also, do not simply write a wrapper to the built-in Deque class.\n",
    "\n",
    "It should have the following methods:\n",
    "\n",
    "append_left(element)\n",
    "\n",
    "append_right(element)\n",
    "\n",
    "pop_left()\n",
    "\n",
    "pop_right()\n",
    "\n",
    "peek_left()\n",
    "\n",
    "peek_right()\n",
    "\n",
    "get_count()\n"
   ]
  },
  {
   "cell_type": "code",
   "execution_count": 68,
   "id": "f5807bda",
   "metadata": {},
   "outputs": [],
   "source": [
    "class Deque:\n",
    "    def __init__(self):\n",
    "        self.array = []\n",
    "\n",
    "    def append_left(self, element):\n",
    "        self.array.insert(0, element)\n",
    "\n",
    "    def append_right(self, element):\n",
    "        self.array.append(element)\n",
    "\n",
    "    def pop_left(self):\n",
    "        if self.array:\n",
    "            return self.array.pop(0)\n",
    "        else:\n",
    "            return print(\"Deque is empty\")\n",
    "\n",
    "    def pop_right(self):\n",
    "        if self.array:\n",
    "            return self.array.pop()\n",
    "        else:\n",
    "            return print(\"Deque is empty\")\n",
    "\n",
    "    def peek_left(self):\n",
    "        if self.array:\n",
    "            return self.array[0]\n",
    "        else:\n",
    "            return None\n",
    "\n",
    "    def peek_right(self):\n",
    "        if self.array:\n",
    "            return self.array[-1]\n",
    "        else:\n",
    "            return None\n",
    "\n",
    "    def get_count(self):\n",
    "        return len(self.array)"
   ]
  },
  {
   "cell_type": "code",
   "execution_count": 69,
   "id": "c430a017",
   "metadata": {},
   "outputs": [
    {
     "name": "stdout",
     "output_type": "stream",
     "text": [
      "Peek left: 2\n",
      "Peek right: 4\n",
      "Pop left: 2\n",
      "Pop right: 4\n",
      "Count: 2\n",
      "Pop left from empty deque: 1\n"
     ]
    }
   ],
   "source": [
    "\n",
    "deque = Deque()\n",
    "\n",
    "deque.append_left(1)\n",
    "deque.append_left(2)\n",
    "deque.append_right(3)\n",
    "deque.append_right(4)\n",
    "\n",
    "\n",
    "print(\"Peek left:\", deque.peek_left())  \n",
    "print(\"Peek right:\", deque.peek_right())\n",
    "\n",
    "print(\"Pop left:\", deque.pop_left())\n",
    "print(\"Pop right:\", deque.pop_right()) \n",
    "\n",
    "print(\"Count:\", deque.get_count()) \n",
    "\n",
    "print(\"Pop left from empty deque:\", deque.pop_left())"
   ]
  },
  {
   "cell_type": "markdown",
   "id": "6286e75f",
   "metadata": {},
   "source": [
    "<h2>4.</h2>"
   ]
  },
  {
   "cell_type": "markdown",
   "id": "8dc682f6",
   "metadata": {},
   "source": [
    "Write a recursive binary search function to search for an element in an array. Assume the elements in the array are sorted.\n",
    "\n",
    "It should return the index of the element and return -1 if it is not found."
   ]
  },
  {
   "cell_type": "code",
   "execution_count": 12,
   "id": "c5cb2cf0",
   "metadata": {},
   "outputs": [
    {
     "name": "stdout",
     "output_type": "stream",
     "text": [
      "Target at index 39\n"
     ]
    }
   ],
   "source": [
    "def  recursive_search(arr, l, r, x):\n",
    "    if r >= l:\n",
    "        mid = l + (r - l) // 2\n",
    "\n",
    "        if arr[mid] == x:\n",
    "            return mid\n",
    "\n",
    "        elif arr[mid] > x:\n",
    "            return  recursive_search(arr, l, mid - 1, x)\n",
    "\n",
    "        else:\n",
    "            return  recursive_search(arr, mid + 1, r, x)\n",
    "\n",
    "    return -1\n",
    "\n",
    "arr = [10, 11, 12, 17, 19, 24, 27, 32, 36, 37, 38, 39, 40, 43, 47, 49, 50, 53, 55, 56, 57, 58, 62, 63, 66, 69, 70, 73, 74, 76, 80, 82, 83, 86, 88, 91, 94, 97, 99, 102, 105, 108, 109, 112, 113, 117]\n",
    "x = 102\n",
    "     \n",
    "result =  recursive_search(arr, 0, len(arr) - 1, x)\n",
    "     \n",
    "if result != -1:\n",
    "    print(\"Target at index\", result)\n",
    "else:\n",
    "    print(\"Target not in array\")\n",
    "\n"
   ]
  }
 ],
 "metadata": {
  "kernelspec": {
   "display_name": "Python 3 (ipykernel)",
   "language": "python",
   "name": "python3"
  },
  "language_info": {
   "codemirror_mode": {
    "name": "ipython",
    "version": 3
   },
   "file_extension": ".py",
   "mimetype": "text/x-python",
   "name": "python",
   "nbconvert_exporter": "python",
   "pygments_lexer": "ipython3",
   "version": "3.11.7"
  }
 },
 "nbformat": 4,
 "nbformat_minor": 5
}
