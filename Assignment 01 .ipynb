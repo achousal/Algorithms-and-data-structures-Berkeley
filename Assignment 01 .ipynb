{
 "cells": [
  {
   "cell_type": "markdown",
   "id": "f79f8da3",
   "metadata": {},
   "source": [
    "<h1>Assignment 01</h1>"
   ]
  },
  {
   "cell_type": "markdown",
   "id": "7636c26c",
   "metadata": {},
   "source": [
    "<h2>1.</h2>"
   ]
  },
  {
   "cell_type": "markdown",
   "id": "f70d1e9b",
   "metadata": {},
   "source": [
    "<h3>O(1)</h3>\n",
    "x = 1 + 1 \n",
    "\n",
    "<h3>O(log n)</h3>\n",
    "flipping through a dictionary to find a word\n",
    "\n",
    "<h3>O(n)</h3>\n",
    "list search\n",
    "\n",
    "<h3>O(n log n)</h3>\n",
    "Quick sort, which relies on pivot elements\n",
    "\n",
    "<h3>O(n2)</h3>\n",
    "cutting off hydra dragon heads\n"
   ]
  },
  {
   "cell_type": "markdown",
   "id": "7a8e1ef1",
   "metadata": {},
   "source": [
    "<h2>2.</h2>"
   ]
  },
  {
   "cell_type": "code",
   "execution_count": null,
   "id": "764a2794",
   "metadata": {},
   "outputs": [],
   "source": [
    "import random\n",
    "\n",
    "def arraymix(mylist):\n",
    "    length = len(mylist)\n",
    "    for i in range(length):\n",
    "        j = random.randint(i, length - 1)\n",
    "        mylist[i], mylist[j] = mylist[j], mylist[i]\n"
   ]
  },
  {
   "cell_type": "code",
   "execution_count": 38,
   "id": "c2d25d2c",
   "metadata": {},
   "outputs": [
    {
     "name": "stdout",
     "output_type": "stream",
     "text": [
      "shuffled array: [4, 6, 0, 2, 8]\n"
     ]
    }
   ],
   "source": [
    "array = [0,2,4,6,8]\n",
    "arraymix(array)\n",
    "print (\"shuffled array:\", array)\n"
   ]
  },
  {
   "cell_type": "markdown",
   "id": "5166f5cf",
   "metadata": {},
   "source": [
    "In average and worst case, O notation is O(n). The algorithm creates a random integer(j) for every integer(length) in the array which is swapped with a escalating i."
   ]
  },
  {
   "cell_type": "markdown",
   "id": "3f36e18b",
   "metadata": {},
   "source": [
    "<h2>3.</h2>"
   ]
  },
  {
   "cell_type": "code",
   "execution_count": 1,
   "id": "69847037",
   "metadata": {},
   "outputs": [],
   "source": [
    "def counts(arr, target):\n",
    "    def finds_f(arr, target):\n",
    "        l, r = 0, len(arr) - 1\n",
    "        while l <= r:\n",
    "            m = l + (r - l) // 2\n",
    "            if arr[m] == target and (m == 0 or arr[m - 1] != target):\n",
    "                return m\n",
    "            elif arr[m] < target:\n",
    "                l = m + 1\n",
    "            else:\n",
    "                r = m - 1\n",
    "        return \"not in list\"\n",
    "    \n",
    "    def finds_l(arr, target):\n",
    "        l, r = 0, len(arr) - 1\n",
    "        while l <= r:\n",
    "            m = l + (r - l) // 2\n",
    "            if arr[m] == target and (m == len(arr) - 1 or arr[m + 1] != target):\n",
    "                return m\n",
    "            elif arr[m] <= target:\n",
    "                l = m + 1\n",
    "            else:\n",
    "                r = m - 1\n",
    "        return \"not in list\"\n",
    "\n",
    "    first_i = finds_f(arr, target)\n",
    "    if first_i == \"not in list\":\n",
    "        return \"none\"\n",
    "    last_i = finds_l(arr, target)\n",
    "    return last_i - first_i + 1"
   ]
  },
  {
   "cell_type": "code",
   "execution_count": 2,
   "id": "71bbc0a8",
   "metadata": {},
   "outputs": [
    {
     "name": "stdout",
     "output_type": "stream",
     "text": [
      "Number of times 6 is in list:  9\n"
     ]
    }
   ],
   "source": [
    "arr1 = [0, 1, 2, 3, 3, 3, 3, 3, 3, 4, 4, 5, 6, 6, 6, 6, 6, 6, 6, 6, 6]\n",
    "target1 = 6\n",
    "print(\"Number of times\", target1, \"is in list: \", counts(arr1, target1))"
   ]
  },
  {
   "cell_type": "markdown",
   "id": "295169c3",
   "metadata": {},
   "source": [
    "<h2>4.</h2>"
   ]
  },
  {
   "cell_type": "code",
   "execution_count": 1,
   "id": "a7cd735b",
   "metadata": {},
   "outputs": [],
   "source": [
    "def finds_L(arr):\n",
    "    l, r = 0, len(arr) - 1\n",
    "    while l < r:\n",
    "        mid = l + (r - l) // 2\n",
    "        if arr[mid] > arr[mid + 1]:\n",
    "            return mid\n",
    "        elif arr[mid] < arr[-1]:\n",
    "            r = mid\n",
    "        else:\n",
    "            l = mid + 1\n",
    "    return l"
   ]
  },
  {
   "cell_type": "code",
   "execution_count": 5,
   "id": "d5ab1243",
   "metadata": {},
   "outputs": [
    {
     "name": "stdout",
     "output_type": "stream",
     "text": [
      "the biggest number is in index 4 and its a 8\n"
     ]
    }
   ],
   "source": [
    "arr = [5, 7, 11, 0, 1, 3]\n",
    "index = finds_L(arr)\n",
    "print (\"the biggest number is in index\", finds_L(arr), \"and its a\",arr[index],)\n"
   ]
  },
  {
   "cell_type": "code",
   "execution_count": 11,
   "id": "16d38177",
   "metadata": {},
   "outputs": [],
   "source": [
    "def __init__(self, capacity=10):\n",
    "        self.array = [11] * capacity\n",
    "        self.top = -1\n",
    "        \n",
    "def pop(self):\n",
    "        if self.is_empty():\n",
    "            raise Exception(\"Empty Stack\")\n",
    "        element = self.array[self.top]\n",
    "        self.top -= 1\n",
    "        return element"
   ]
  }
 ],
 "metadata": {
  "kernelspec": {
   "display_name": "Python 3 (ipykernel)",
   "language": "python",
   "name": "python3"
  },
  "language_info": {
   "codemirror_mode": {
    "name": "ipython",
    "version": 3
   },
   "file_extension": ".py",
   "mimetype": "text/x-python",
   "name": "python",
   "nbconvert_exporter": "python",
   "pygments_lexer": "ipython3",
   "version": "3.11.5"
  }
 },
 "nbformat": 4,
 "nbformat_minor": 5
}
